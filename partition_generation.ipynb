{
  "cells": [
    {
      "cell_type": "code",
      "execution_count": 1,
      "metadata": {
        "pycharm": {}
      },
      "outputs": [],
      "source": "%matplotlib inline\nimport matplotlib\nimport matplotlib.pyplot as plt\n\nimport numpy as np\nfrom sklearn.manifold import TSNE\nfrom sklearn.cluster import KMeans\n\nimport torch\nimport torch.nn as nn\nimport torch.nn.functional as F\nimport torch.utils.data as data\nimport torch.distributions as dist\nimport torchvision.models as models\n\n\nimport os\n\nfrom datasets import NoisyCUB200\nos.environ[\u0027CUDA_VISIBLE_DEVICES\u0027] \u003d \u00270\u0027"
    },
    {
      "cell_type": "code",
      "execution_count": 2,
      "metadata": {
        "pycharm": {}
      },
      "outputs": [],
      "source": [
        "dataset \u003d \u0027cub200\u0027\n",
        "n_cls \u003d 200\n",
        "net_type \u003d \u0027resnet\u0027\n",
        "noise_type \u003d \u0027symmetric\u0027#\u0027pairflip\u0027 #\u0027symmetric\u0027\n",
        "noise_rate \u003d 0#0.45 #0.5\n",
        "checkpoint_path \u003d \"../results/%s/intranoisyset/baseline/pretrained/%s/%s/noise_rate_%.2f/seed_0/checkpoint.pth.tar\" % (dataset, net_type, noise_type, noise_rate)"
      ]
    },
    {
      "cell_type": "code",
      "execution_count": 3,
      "metadata": {
        "pycharm": {}
      },
      "outputs": [],
      "source": [
        "n_ex_per_cls \u003d [0] * n_cls\n",
        "cls_feats \u003d None"
      ]
    },
    {
      "cell_type": "code",
      "execution_count": 4,
      "metadata": {
        "pycharm": {}
      },
      "outputs": [
        {
          "name": "stdout",
          "output_type": "stream",
          "text": [
            "Training set size: 3000\n"
          ]
        }
      ],
      "source": [
        "if dataset \u003d\u003d \u0027cub200\u0027:\n",
        "    trainset\u003d NoisyCUB200(root\u003d\u0027../data/\u0027+dataset, year\u003d2011, train\u003dTrue, noise_rate\u003dnoise_rate)\n",
        "elif dataset \u003d\u003d \u0027sop\u0027:\n",
        "    trainset \u003d datasets.StanfordOnlineProduct(root\u003d\u0027../data/\u0027+dataset, train\u003dTrue)\n",
        "print(\u0027Training set size:\u0027, len(trainset))"
      ]
    },
    {
      "cell_type": "code",
      "execution_count": null,
      "metadata": {
        "pycharm": {}
      },
      "outputs": [],
      "source": []
    },
    {
      "cell_type": "code",
      "execution_count": 5,
      "metadata": {
        "pycharm": {}
      },
      "outputs": [],
      "source": [
        "if net_type \u003d\u003d \u0027resnet\u0027:\n",
        "    model \u003d models.resnet50()\n",
        "    model.fc \u003d nn.Linear(model.fc.in_features, n_cls)\n",
        "elif net_type \u003d\u003d \u0027densenet\u0027:\n",
        "    model \u003d models.densenet161()\n",
        "    model.classifier \u003d nn.Linear(model.classifier.in_features, n_cls // num_splits)"
      ]
    },
    {
      "cell_type": "code",
      "execution_count": 6,
      "metadata": {
        "pycharm": {}
      },
      "outputs": [],
      "source": [
        "checkpoint \u003d torch.load(checkpoint_path)\n",
        "model.load_state_dict(checkpoint[\u0027state_dict\u0027])"
      ]
    },
    {
      "cell_type": "markdown",
      "metadata": {
        "pycharm": {}
      },
      "source": [
        "# partitioning generation"
      ]
    },
    {
      "cell_type": "code",
      "execution_count": 7,
      "metadata": {
        "pycharm": {}
      },
      "outputs": [],
      "source": [
        "# settings\n",
        "n_parts \u003d 2\n",
        "n_cls_per_part_threshold \u003d 10\n",
        "\n",
        "pool_size \u003d 1000\n",
        "\n",
        "save_path \u003d \u0027../data/%s_intranoisy_partitions/%s/%s/noise_rate_%.2f\u0027 % (dataset, net_type, noise_type, noise_rate)"
      ]
    },
    {
      "cell_type": "code",
      "execution_count": 8,
      "metadata": {
        "pycharm": {}
      },
      "outputs": [],
      "source": [
        "seed\u003d0\n",
        "\n",
        "np.random.seed(seed)\n",
        "torch.manual_seed(seed)\n",
        "torch.cuda.manual_seed_all(seed)"
      ]
    },
    {
      "cell_type": "code",
      "execution_count": 9,
      "metadata": {
        "pycharm": {}
      },
      "outputs": [],
      "source": [
        "if net_type \u003d\u003d \u0027resnet\u0027:\n",
        "    cls_feats \u003d model.fc.weight.data.cpu().numpy()\n",
        "elif net_type \u003d\u003d \u0027densenet\u0027:\n",
        "    cls_feats \u003d model.classifier.weight.data.cpu().numpy()"
      ]
    },
    {
      "cell_type": "code",
      "execution_count": 10,
      "metadata": {
        "pycharm": {}
      },
      "outputs": [
        {
          "data": {
            "image/png": "iVBORw0KGgoAAAANSUhEUgAAAXwAAAD8CAYAAAB0IB+mAAAABHNCSVQICAgIfAhkiAAAAAlwSFlzAAALEgAACxIB0t1+/AAAADl0RVh0U29mdHdhcmUAbWF0cGxvdGxpYiB2ZXJzaW9uIDMuMC4xLCBodHRwOi8vbWF0cGxvdGxpYi5vcmcvDW2N/gAAIABJREFUeJztnW2MnVd17//LzlwYQ5UBZQjJhKndKhgF0tjKKPeD1arxRXVaqsYJSoBKLVJRXaTmA1FkaVIqNRdaYZHm5l6hXlpzL4IPBWwVYtKGNhASNZJV1I5lp4khVkMSaMYWMcTTl3hIZsarH+ac5PjM8/7sl7Wf5/+TLNtnzpxnPy/nv9f+77XXFlUFIYSQ7rMpdgMIIYSEgYJPCCE9gYJPCCE9gYJPCCE9gYJPCCE9gYJPCCE9gYJPCCE9gYJPCCE9gYJPCCE94ZLYDRjlsssu061bt8ZuBiGEJMWxY8d+rKrTZe8zJfhbt27FwsJC7GYQQkhSiMgPqryPlg4hhPQECj4hhPQECj4hhPQECj4hhPQECj4hhPQEU1k6hNThyPFF3PvwKZxeWsaVU5PYv2c79u6cid0sQsxCwSdJcuT4Iu7+2pNYXlkDACwuLePurz0JABR9QnKgpUOS5N6HT70m9kOWV9Zw78OnIrWIEPtQ8EmSnF5arvU6IYSCTxLlyqnJzNc3ieDI8cVGn3nk+CJ2HXgU2+Yfwq4Djzb+HEKsQsEnSbJ/z3ZMTmze8PqaKu7+2pO1xXo4J7C4tAzF63MCFH3SJSj4JEn27pzBp269FptFNvysiZfPOQHSByj4JAg+7JK9O2dwQTXzZ3W9fM4JkD7gJC1TRD4P4NcBvKiq7xm8dg+A3wVwdvC2P1DVb7g4HkkLVymUWXn3V05NYjFDlPM8/jxcfQ4hlnEV4X8BwE0Zr9+vqjsGfyj2PcWFXZLnsd/4rukNXv7kxGbs37O9Vhuz5gSafA4hlnEi+Kr6OICXXHwW6R4u7JK8TuOxp8/iU7dei5mpSQiAmalJfOrWa2svvhrOCbT9HEIs43ul7R0i8tsAFgDcparnxt8gIvsA7AOA2dlZz80hMXBhl+R1DotLy9i7c8aJMLv6HEKs4nPS9rMAfh7ADgBnANyX9SZVPaiqc6o6Nz1dukMXSRAXdkle5yAAUycJqYg3wVfVH6nqmqpeAPA5ADf4OhaxjQu7ZP+e7diYgAkoYCJ1kou2SAp4s3RE5ApVPTP47y0AnvJ1LGKftnbJ3p0z+NihE5k/y7N7QlXTZCE3kgpOInwR+TKAfwCwXUReEJGPAPi0iDwpIv8M4EYAd7o4FukvMzm2TpbdE3LlLBdtkVRwlaXzIVW9QlUnVPUqVf3/qvpbqnqtqv6Cqv7GSLRPSCPqzAWEFOGiCWVf1g4tJNIE1sMnyTC0R6rYNCFXzuZlIQFwZu2M2lNTWybwnz9dxcqF9VXGtJBIVSj4xCR5/nvVuYCQK2f379l+kYc/ynBU0UaIx+cIzp1f8XIc0n1YS4e0xrW94MJ/D7lydpiFlEfbUUWWPeXjOKT7UPBJK3xMjrrw30OvnN27c6bWpHIdqgo56/6QMmjpkFYUiXNTcXXlv4deOZtl7bgYVRTNEbg8Duk+jPBJK3xMjuZFqtYjWF+jihvflb0CfXJiE+v+kFowwietmNoykTmJOLVlovFn+oqUQ+BjVPHY02czX3/rm96Ao/O7nR6LdBsKPmlFzv4jua9XoU76ZR/g5izEFRR80op/W94Y3Re9XhVWrnwdbs5CXEEPn7QiVb89BYbprotLyxsKx6VicRFbUPBJK7hTlB9G012B9aqgQ9HnJG19WIpiHVo6pBVW/fZQlTJ9kZXuqlgXe07U1oPVTF+Hgk9aY81vj/kFd9XRcKLWHT7WiqQKLR3SOWKVK3a56rjPcyOu7Rd2nq9DwSed4sjxxdxVqb6/4C47mr7Ojfgo1dHnznMcCj5phaXJsKFY5OH7C+4ykgxdC8gKPkZnfe08s6CHTxpjbTKsqKpkiC+463x5a3MjIfBhv1hNLIgBBZ80Ji8au+vwEwDCi36RKISIjlMuCeGDJhPYvhaZ9bHzzIKWDmlMnsCuqXrbP7aIPFGYmZoM8mXvqw2TRVMvnvaLXxjhk8YUle2NkfZmIcJmJLlO01RI2i9+oeCTxhRt7QeET3ujWNihjRfPTtMfTgRfRD4P4NcBvKiq7xm89lYAhwBsBfA8gNtV9ZyL4xEbDL+Udx1+AmsZ5THHLZYQq18pFjZgwTebuPLwvwDgprHX5gF8W1WvBvDtwf9Jx9i7cwb33X5dqe/qI7+a2IVevE2cCL6qPg7gpbGXbwbwxcG/vwhgr4tjEXtUmayMtfqVxCHvmQBgZt1GH/Hp4V+uqmcAQFXPiMjbPB6LRKbMSuHy9v4x/ky0XbeRekE8C0RPyxSRfSKyICILZ89mb+VG0ofL20mbUR4tQTf4FPwficgVADD4+8WsN6nqQVWdU9W56enszZpJ+lj3dC2ViOgqbUZ5tATd4NPSeRDAhwEcGPz9dY/HIsapkzLpa+ie97nWSkRYwuW9yMvcUaz7+kWfTUvQDa7SMr8M4JcBXCYiLwD4I6wL/WER+QiAHwK4zcWxSLpUSZn0Jb5Fn8t66dm4vhdF6zbKPptpnm5wIviq+qGcH/0PF59PbOMyCvQlvkWfayV6tDYp6fpejI7yssS76LPbrKK2dl1jEn3SlqSN68k0X+Jb9LkWJpQtTkr6qlx5dH73hk3Zyz67aZ0ii9c1JhR80grXk2m+xLfocy1MKFuclMy7ZpdOTnj77KL7POwsnjvwPhyd311J7O86/ITz65ryBD8Fn7TCdRToS3yLPtdClUsrttIo+/dsx8SmjbH4y6+uthY5353sMLLPKvkBNL+uqY8YWDyNtMLHph+A+wJoZZ8buwaPxUnJvTtn8D//+iTOnV+56PWVNW09p+K70F3RZjhA8+ua+gQ/BZ+0wkdJYl/iG1vUi7BQ2jmLpTGxH+Ji5OHzfhS1r811tTgSqwMtHdIKC3ZIF7B6HS1MaDchr32bRVpd11SvxxDRHI8rBnNzc7qwsBC7GcQgTK2Lw3guPrAeIVvojIrw1W6r10NEjqnqXNn7aOl0gK6LIVfCxiPVTWVizQVZhxF+4liNOFyy68CjmROaM1OTODq/O0KL0qLrAQFhhN8bLGQN+BaU1CfKYsLRUTl96hAp+IkTWwxDCIrFlMVUsBAQWKbo+QXStW7yYJZO4sTOGgixQtTCSthUiR0QhKDNyte85/eeB08mvcAqDwp+4uzfsx0Tmy9eDTmxWYKJYZ5wLC4tO1t2bjVlMQViBwS+abvyNe/5XVpeMVfqwgW0dLrA+Lx7wHn4PLsFcGvvWF40ZRmrC7pc0dayKnp+s0h9ZMQIP2GGxaFWLlys8CsXNFgkkmW3jJIXFbUtQJVyAauQpDo6qnp/21pWeXbhW7ZkF4hLfWTECD9RfBWHqktZjfOstrjYzLrO7/cpCyOLrNGR5WtS5/62ndDPy6sH0MmRESP8RPFVHKoJw7K1MxX94rYTvXV+P/Xqhj6wfk3q3N+2E/p5HV/VkVFqI01G+IniqzhUG6r6xW2H4XV+v6rHGzrijRlhW0/VrHN/26x8LRtJlM0bpbjGgYKfKHlD2bbFodpQ9cvXdhhe5/eriEfoL25sobCeqln3+Wg6od+247PecWZBSydR8oay991+XdSHrcquRG2H4XV+v0paYujdpmLvblXlmsS0KkKtuwg50rQCBT9RUs2+ANq3vc7vVxGP0F/c2EJRdk1ie/yhnu22axRSXONASydhUs5Nb9v2qr9fxWYKXbohdqmIsmtiwaoI8Wy3XaOQ4hoH74IvIs8D+A8AawBWq1R0I8QlZeIR+otrQSiKrknsEUgIhpPmyytr2CyCNVXM1Jw8T7FUcqgI/0ZV/XGgYxFSi9BfXOtCEXsE4pvxSfM11Ys2tC/73fH7llKJbu/18AcR/lwVwWc9fELq4SO9M/QeC6FTVJvur2B574mq9fBDTNoqgG+KyDER2RfgeIT0Al+TqyETAmJMEDe1rGJnV7kghKWzS1VPi8jbAHxLRJ5W1ceHPxx0AvsAYHZ2NkBzCOkGPidXQyUExJggbmpZdWFuw3uEr6qnB3+/COABADeM/fygqs6p6tz09LTv5hDSGcpKU6ew3D+GiDbN808xDXMcr4IvIm8SkZ8Z/hvArwB4yucxCekLeUIjgNk6OePEENGmllUXNuLxbelcDuABERke60uq+neej0lIL8hK7xRs3A5h3CKxVCkzVopqE8vKenZVFbwKvqo+C+A6n8cgpK9kCVBZierYdXzGKRNRS53TsL0pCfw43tMy68C0TELaUZZy2DQlMQaW0yCtUTUtk6UVyGtYi6ZIfcoskpQyTfIyeO46/ATuPHTC+zMa6vsQ8ntHwe8xow/apZMTePnVVaysrY/4Yg/1STPKLJKUVtHmdULDXd58PqOhrK/QFhsFv6eMP2hLyysb3mO9tndMLI+GinzmqpOkFs6vygbjvp7RUOsDQq9DoOD3lLItEoeUDfUtCENorE181qFKpomV88vqnLLwYUeFsr5CW2wU/J5S9YEqGupbEYYsfHZEFsoHt6Es08TK+Y13TpsGVS3H8WFHhbK+Qlts3AClp1R5oMryoa3WFvFdnyWlic8mWDq/0R3U7rv9umALn7IWWQ0XtLlcvRx6MRcF3wGp7VwPZD9oE5sEb9kyUXn1YWxhyLvuvjuiLiyxL8Lq+YUs6jZ6LODiBW0uA4jQO9fR0mlJW1sjlgfuYtVgzIyPouvuuyOysIGJTyyfX8iFT8NjZa1dcGlxhTwnCn5LyvzOIkGP7YGXPWhlnVFoYRhtT5afO7zuvjuiLiyxL6Lr51eX2CNZl1DwW1L0MJQJupXJsSyqdEYhhSFrl6IsTi8t4/4P7PDeEaW+xL6M4fkNO9k7D53AvQ+fcnZ/U8ruSmntQhkU/JYUPQxlgm45cqjaGcWsm57FlVOTnYxQYwikrxFo7JFtXXyMZGN1eJy0zaHqRGzRLHuZoFudHAPsDWOrHHf0Szia3XF0frdJIalKjF2hAH+T31azu/JwPbGadT8/dugEdn7im97vKSP8DOpEIEXR5L0PnyocClqeHLM2jM1rz2YRXFDtRBSfRyzrz1enby2YqILLkWzeaPXc+RXvIx0KfgZ1v2B5D0OZoFu2Hqx1Rnnt6UPlxFgCmdfJTm2Z8PK5Fka2ISi6b747cgp+Bq6+YFUE3erkn7XOyFp7QjD0efMKmPsWyP17tmP/Xz3xWkG9If/501UcOb7Y+NpbCyZCU1YjyGdHTsHPwGUEYlXQq2Ct7dba45OsWvCjhNoV6p4HT24orLdyQVtFoX3svEcpqxHksyOn4GfQ9wiExKcoK2kmoED+W0YVVaB9FNqnznuc4Xlndaa+dYaCn0HfI5C2pJRj7QIf55snqAIE3Zmq7367L8bXOYT6rlDwc+hzBNKG1HKs2+LrfK0ILUe7fgmtM8zDJ04py7FOsdBcEb5yykNXUcwjdHEv4hdG+MQpbUpNpEje+Q7L6DYdotexFX3bAhztdgfvgi8iNwH4PwA2A/h/qnrA9zFJPNqUmkiRohS7th1aFaHtYidK/OHV0hGRzQD+DMCvArgGwIdE5BqfxyTV8WGvtCk1kSJZ5zuK75IBqZUp8EXXrEJf+I7wbwDwjKo+CwAi8hUANwP4rufjJkfo2XpfkWGbUhNV2mwt+2f0fPMifZ8dWhc70bpwlFMd34I/A+BfR/7/AoD/7vmYyRHjgfVprzQtNVFE2TWK2RkUbZQB+M2ssZLNE5MuWoW+8J2lIxmvXbROW0T2iciCiCycPXvWc3NsEmNYHiMybJPxUXSNYlWTHCdGZo2VbJ6YcJRTHd8R/gsA3jHy/6sAnB59g6oeBHAQAObm5vLKhnQa3w9sVvQbKzJsmvFRdI2sRHgxFuxxkWD+KOfSyQnsOvBob69LFr4F/58AXC0i2wAsAvgggN/0fMzk8Cm+eVbI+6+fwVePLSazoKboGlmK8GKkMMZMm7Qwr5JlFU5sErz86uprpQvo66/j1dJR1VUAdwB4GMD3ABxW1ZM+j5kiPofledHvY0+fTWpBTdE1sryRTB5dyCqxYqVlWYVvfuMlG6p89jF7aRzvefiq+g0A3/B9nJTxOSwvin5TWlBTdo1SWv7vY5I+RqRtxUoDNo5yts0/lPm+vvv6nV9pa2HIWQVf4tulLI68a5Saj+1aKGOlJVqy0sYJ+dynojFAxwWf+bn9KX6V0mjFtVDmdSB3HX4CgL9nPU9UFcDOT3wTquvllWOIYKjnPjWN6XTxNK5CZPEri7iec8jrKNZUvXrqRauMz51fwdLySjRvP9Rzn5rGdDrCtzzkHBJiODge/Q4nDFMYgnYR19FnUT0fn556lVXGIdqRh8tRX973NAWNGaXTgm/dv44xHMw65p2HTuBjh04E3Ulp2BYL3mfoduTNOQBo1BGXbZnnezHd3p0z2Db/UO7euyHa4ZOi76l1jRmn05aO9VWIMYaDWcccflFDDr2zUvruPHQCf3jkSe/HLmtHiGuwd+cMjs7vxnMH3vfaDlZN2zG0LzZL1sL2MOJT5RhWRbCMou9pHY2xkIrbacG37l+X1VL38UCURVmh/Me8jucvv/PDoF8EKx5s23bs3TmD+26/LlqAU1Y11FKgVZey1OYqGmNlzUKnLR3AdvaGz1rqTY45JMTQO+8YCgT1eqt6sL5tHxdecMz01PFjT22ZiJql45Iy26aKxuR16Pc8eJJ72vaFMu/Vx0RX2TGBcBZAjHLCVdsxeg1CzLW48oJjBjiWg6sq5HXqLibZ857ppeWVoOUfOm3pWGd0OJiHa/EbP+a46xvSAsh2nMN6vVU82BC2j/X5pq5TZLm4sIarPtO+7URG+BmEzNqIUUt9NBKLlSmzd+cMFn7wEv7yOz+8KLsjtMhVsUFCpN6ltlq4a5Stfm47eqkysh7ic4RLwR8j1sq5WCtiYw7D/3jvtZj72bdGF7myaxAq9S51SyRlfHfqWR36+VdXce78yob3+hzhUvDHiFUQqi8RXtaIYpiWaJW+lKfoMyE69awFkKGfq04IvktbIubKua5HeKnVHRnSl864z8To1GM8V8kLvmsRSW3lXEpYKqdbl5CdsZUVyH0iVqceOshLXvBdi0jXhu+WxCO1uiMxSHUU1AW6PsIGOiD4ZatVqwrdqDBObZnAGy7ZlPyiEWviwdFTOSmPgoh9ks/DzxMLASovYx7PwT13fgWvrF7A/R/YgaPzu5P9ouWJx8cOnYhSy4O55uVwFER8krzgZ4mIABsq9xUtaLBST6UJRQWZikSiyzXKY9K2QFaK+/OSdEje0smabKm7ZD/VqKrMsimrm5N6jXJrNLHQxudYbnzXNL56bLEzc0jEFslH+MDGUrN5pQrqRk/Wo6qykUlZBUPAfqfmGp8lauuOFLOW83/12CLef/1Mp0dBJB7JR/hZ1M20STUzp2xkUmVHIledmqVsoDx8T2LXHSnmdRCPPX3W/GI0kibeInwRuUdEFkXkxODPr/k61jh1veJUveUqI5Ph6Od/f2CHtwlTK7W+y/A9V5N3PzaJ1JpjSW3U1XbUZGFjkL7gO8K/X1X/1PMxMqnrFafoLdcZmfhcWJJKKqFvgc0rkLWm6ykEVedYrFuJo7QdNVlLHe46nbR0+kJdEffVqbkSUt+2kG+BHb8fm0ReE/shox1hqlbiKG07+1SCha7gW/DvEJHfBrAA4C5VPTf+BhHZB2AfAMzOznpuTvewMDJxIaQhIr0QAjt6P7bNP5T5nqw5FgtzH0063LadfVdsrVRoJfgi8giAt2f86OMAPgvgk1hPif8kgPsA/M74G1X1IICDADA3N1e28T0xiAshDRHphRbYKh2hhQ4baN7htu3su2BrpUQrwVfV91Z5n4h8DsDftDkWsYsLIQ0V6YUU2JQsm6YdbttzTOkadQFvlo6IXKGqZwb/vQXAU76O1ZYUUgqt01ZIuxjpWbNsimja4bY9x5SuURfw6eF/WkR2YN3SeR7A73k8VmOYJWCDrkZ6ViybMtp0uG3Psc3vM1irhzfBV9Xf8vXZLulzloClLwsjvbik1OEOn9vFpeWL6mYxWCun92mZfc0ScFH3ZSgGrkQ6lWi4i6TS4Y4/t3lFEq212wq9F/wuesdVqDuyyeog9v/VE4ACKxeyFxaRtEihw816bsfperDWhk4UT2tDX2u0u6j7srKmr4n9kFTKSpM4tC2jUEXMux6staH3Eb6VoWxoP73uyKZO1MQIi2ThIkGirOR3H4K1NvRe8IH4Q9kYmUJ1J+nKvmjj7yVkHBcJElnP7XDidrPIRSNM6/ZUDCj4kRiN6Mtqrvig7sgm64s2sVku8vCB/kVYljKdrOMiQSLruR3fNIZzSflQ8CMwHtGPi/0Q39ZInZFNXgeR9VrsL1koEeYajnq4SpAYf253HXi0t6nVdaHgR6BKpgHgxxppI4Z5HYSrL5ULoQ4pwn1dw9H0PvnK9e9ranUTep+lE4MqD6IPa8TyRiWu2hZyQ/o+Ck2b++Rro6FUtyiNASP8COQNbTeL4IKqNxvCckTqqm0hRTjUGg5L8wRt75OPBImUVgnHhoIfgbwHtE20U0UULEekeW1YXFrGtvmHKgtdVRF2IaIhhKauReW7cwj1DNU5j6L5pV0HHjXRUVqBgp+B7y+N69z/qqJgeVVxUdrnqHUAFHvxVUTYlc8fYg1HnYg6xPxFiGeoyXmMjxw4oZ4NPfwxQvnce3euby7+3IH34ej87lYPYVXf2vKq4qy2jVPFi6/iE7v0+V3exyyqRtRHji/irsNPeJ+/CPEMubg/IedyUoIR/hiWfe48qoqClVXFWYy3LW/rsyrWQZ5PPFplselnh6ZKRD0MUkKk94Z4hlzYRpbty5hQ8MdI8UGpM8yOvaq4iNG27TrwqFPrYHyIn4UFa2ucKhZVWZqv6/Py/Qy5sI0s25cxoaUzRlmKV9viTz6wbNU0xfU5lYmi1etVxaIqCkasnlcReff+xndNV/7udfE74QJG+GMURVRWJ4IsWzVl5E2Quz6nIlGcMX69yiLqojRfF3nubWiSAOGifELK3wmfiOb4fjGYm5vThYWF2M3IfUjzbIaZqUkcnd8doaVpk2WztE1PzaPL9y7kdYzVri7fPxeIyDFVnSt7HyP8DLIiqiPHF5Oa7MvC0gIeIOwEeZcX51iNZl3e3xTn1ixCwa/AMFLJI4WJIIt2VMgvsVVRdIXFyfiixXR14SSsGyj4FSia8EslSrSYbhr6S2xRFLtM3v0VrAcgde5Fl0doIWGWTgWKIs7YPmlVLA6JmUnRbfbv2Q7JeF2B2gugxrOVpiYn8MaJTbjz0Akz2XIp0ErwReQ2ETkpIhdEZG7sZ3eLyDMickpE9rRrZlwunZzIfH1majIJsQdsVhT0VT2R2GDvzplWC+iyPu/o/G7c/4EdeGX1As6dXzFX9dU6bS2dpwDcCuAvRl8UkWsAfBDAuwFcCeAREXmnqpYXgTfGkeOLePnV1Q2vT2ySpCJRq0Ni2izdZsaDbWfRnkyFVhG+qn5PVbPGZjcD+IqqvqKqzwF4BsANbY4Vi3sfPoWVtY1xypvfeElSD1fIaNri4jQSBx+2nUV7MhV8TdrOAPjOyP9fGLy2ARHZB2AfAMzOznpqTnPyHqKl8yuBW1KdosVMvjspi9lAJB4+sqOYsdOcUsEXkUcAvD3jRx9X1a/n/VrGa5l2nqoeBHAQWF94Vdae0KT2cMUW3K4Nt62tXUgR14GGVXsyBUoFX1Xf2+BzXwDwjpH/XwXgdIPPiU5qD1dMwXW5OM2C0MbuPEk2XV9T4RNfls6DAL4kIv8L65O2VwP4R0/H8kpqD1csf9Pl4jQrQtu10UqX4GR/M1oJvojcAuAzAKYBPCQiJ1R1j6qeFJHDAL4LYBXA76eYoTMk5sNVN9KNZUG5XJxmRWg5OUi6RtssnQdU9SpVfYOqXq6qe0Z+9ieq+vOqul1V/7Z9U/tHk923Yi1mcrk4zYrQWly7QEgbuNLWME22aYu1mClPBJssTqsqtL7TP7kSmHQN1tIxSNut+GJYUC4nt0NuRF5Ek/kbC5PNhORBwTdGqlvxuZzcrvJZoXz+Op2nlclmQvKg4Bsj1a34ALcji7LPsuLzj2JlspmQPCj4xmi6FV9VK6ErloPFBXEWOyFCRqHgGyNPyIq2cqtqJXTJcnC9IM5FR2ixEyJkFGbpGKNJZkjVbJ4mWT9WcZmN1CT9NQtm9RDrMMI3RpPJz6pWQgqWQ1GknfUzFxtYu/LeQ63K7ootR8JDwTdI3cnPqlaCdcuhyHIC4M2OctkR+k6J7ZItR8JDS6cDVLUSmlgOIWvbF0XaPu2olFbUdsmWI+FhhN8BqloJdS2HKtGkS3uhSaTtwo5KqSJq0TWi1UPKEFU7Jejn5uZ0YWEhdjPIgF0HHi3MGMpaJDY5sbnx5GnR8QDUzl6qQypimXeN3rJlAj9duXDRvZjYJHjzGy/B0vkV0+dE2iMix1R1rux9jPBJLmURt+uFRmWRts8oPJVyu3nXSBUb7sXKBcW5wc5s9PoJQMEnBZRN8rrO+qlaUsF6FO6a8dHH+6+fwWNPn73oOtx56ETp53DVL6Hgk1zKIm4fWT9FkXYqUbhLsuZRvnpscYNtVlRsbxRLKbgkPMzS6Rgus2rKFjdxoZF/qmblZN2LLCxmHpFwMMLvEE1ztIsmLMsibqCfNksoqtpm4/fi0skJvPzqKlbWXk/KYGdMKPgdoskkatuFPH20WUJSxzYbvxepZB6RcFDwO0STSdSulPTtqri1WSPAzpiMQ8HvEE0mUVOor1NGl8sN0DYjLqHgd4gm0aD1+jpV6MooJQ9G6sQVrbJ0ROQ2ETkpIhdEZG7k9a0isiwiJwZ//rx9U0kZTUoGW860qZpx1IVRCiEhaBvhPwXgVgB/kfGz76vqjpafT2pSNxpsUl8nhL1Qx6bpwiiFkBC0EnxV/R4AiIib1pAoVO0kQnrldWyalIqfERITnwuvtonIcRH5exH5RY/HIYEIWZq3jk3jcveLvr8TAAAEsUlEQVQrQrpMaYQvIo8AeHvGjz6uql/P+bUzAGZV9Scicj2AIyLyblX994zP3wdgHwDMzs5WbzkJTkivvK5Nw4lNQsopjfBV9b2q+p6MP3liD1V9RVV/Mvj3MQDfB/DOnPceVNU5VZ2bnp5ueh4kACE3CrE8mUxIqnixdERkWkQ2D/79cwCuBvCsj2ORcFQVYRf1fGjTEOKeVpO2InILgM8AmAbwkIicUNU9AH4JwCdEZBXAGoCPqupLrVtLolIlo8flxC5tGkLcwh2viFPKdskihLin6o5XLI9MnMJFUITYhYJPnBJyYpcQUg8KPnEKs2sIsQuLpxGnsLojIXah4BPnMLuGEJvQ0iGEkJ5AwSeEkJ5AwSeEkJ5AwSeEkJ5AwSeEkJ5gqrSCiJwF8AMAlwH4ceTmhITn2214vt0n9jn/rKqWlhs2JfhDRGShSl2IrsDz7TY83+6TyjnT0iGEkJ5AwSeEkJ5gVfAPxm5AYHi+3Ybn232SOGeTHj4hhBD3WI3wCSGEOMaU4IvIbSJyUkQuiMjcyOtbRWRZRE4M/vx5zHa6Iu98Bz+7W0SeEZFTIrInVht9ISL3iMjiyD39tdht8oGI3DS4h8+IyHzs9vhGRJ4XkScH97Rz29eJyOdF5EUReWrktbeKyLdE5F8Gf78lZhuLMCX4AJ4CcCuAxzN+9n1V3TH489HA7fJF5vmKyDUAPgjg3QBuAvB/h5vCd4z7R+7pN2I3xjWDe/ZnAH4VwDUAPjS4t13nxsE9NZ+m2IAvYP07Oco8gG+r6tUAvj34v0lMCb6qfk9VT8VuRygKzvdmAF9R1VdU9TkAzwC4IWzriANuAPCMqj6rqq8C+ArW7y1JFFV9HMBLYy/fDOCLg39/EcDeoI2qgSnBL2GbiBwXkb8XkV+M3RjPzAD415H/vzB4rWvcISL/PBgmmx0Gt6Av93EUBfBNETkmIvtiNyYQl6vqGQAY/P22yO3JJfgGKCLyCIC3Z/zo46r69ZxfOwNgVlV/IiLXAzgiIu9W1X/31lBHNDxfyXgtuXSqonMH8FkAn8T6eX0SwH0Afidc64LQiftYk12qelpE3gbgWyLy9CAqJgYILviq+t4Gv/MKgFcG/z4mIt8H8E4A5ieFmpwv1iPBd4z8/yoAp920KBxVz11EPgfgbzw3JwaduI91UNXTg79fFJEHsG5rdV3wfyQiV6jqGRG5AsCLsRuURxKWjohMDyctReTnAFwN4Nm4rfLKgwA+KCJvEJFtWD/ff4zcJqcMvhhDbsH6BHbX+CcAV4vINhH5b1ifiH8wcpu8ISJvEpGfGf4bwK+gm/d1nAcBfHjw7w8DyBu5R8fUnrYicguAzwCYBvCQiJxQ1T0AfgnAJ0RkFcAagI+q6vjESXLkna+qnhSRwwC+C2AVwO+r6lrMtnrg0yKyA+sWx/MAfi9uc9yjqqsicgeAhwFsBvB5VT0ZuVk+uRzAAyICrGvLl1T17+I2yS0i8mUAvwzgMhF5AcAfATgA4LCIfATADwHcFq+FxXClLSGE9IQkLB1CCCHtoeATQkhPoOATQkhPoOATQkhPoOATQkhPoOATQkhPoOATQkhPoOATQkhP+C90pUUy1BVeGwAAAABJRU5ErkJggg\u003d\u003d\n",
            "text/plain": [
              "\u003cFigure size 432x288 with 1 Axes\u003e"
            ]
          },
          "metadata": {
            "needs_background": "light"
          },
          "output_type": "display_data"
        }
      ],
      "source": [
        "cls_reduced_feats \u003d TSNE(learning_rate\u003d100, metric\u003d\u0027cosine\u0027).fit_transform(cls_feats)\n",
        "plt.scatter(cls_reduced_feats[:, 0], cls_reduced_feats[:, 1])\n",
        "plt.show()"
      ]
    },
    {
      "cell_type": "code",
      "execution_count": 11,
      "metadata": {
        "pycharm": {}
      },
      "outputs": [
        {
          "name": "stdout",
          "output_type": "stream",
          "text": [
            "500\n",
            "1000\n"
          ]
        }
      ],
      "source": [
        "clusters \u003d []\n",
        "kmeans \u003d KMeans(n_clusters\u003dn_parts, n_init\u003d1, init\u003d\u0027random\u0027)\n",
        "for i in range(pool_size):\n",
        "    if (i+1) % 500 \u003d\u003d 0:\n",
        "        print(i+1)\n",
        "    kmeans.fit(cls_feats[:, np.random.permutation(2048)[:50]])\n",
        "    clusters.append(kmeans.labels_)\n",
        "\n",
        "if not os.path.isdir(save_path):\n",
        "    os.makedirs(save_path)\n",
        "partitions \u003d torch.from_numpy(np.stack(clusters)).long()\n",
        "torch.save(partitions, os.path.join(save_path, \u0027part_%d_kmeans.pth.tar\u0027 % n_parts))"
      ]
    },
    {
      "cell_type": "code",
      "execution_count": null,
      "metadata": {
        "pycharm": {}
      },
      "outputs": [],
      "source": []
    },
    {
      "cell_type": "code",
      "execution_count": null,
      "metadata": {
        "pycharm": {}
      },
      "outputs": [],
      "source": []
    },
    {
      "cell_type": "code",
      "execution_count": null,
      "metadata": {
        "pycharm": {}
      },
      "outputs": [],
      "source": []
    },
    {
      "cell_type": "code",
      "execution_count": null,
      "metadata": {
        "pycharm": {}
      },
      "outputs": [],
      "source": []
    },
    {
      "cell_type": "code",
      "execution_count": null,
      "metadata": {
        "pycharm": {}
      },
      "outputs": [],
      "source": []
    },
    {
      "cell_type": "code",
      "execution_count": null,
      "metadata": {
        "pycharm": {}
      },
      "outputs": [],
      "source": []
    }
  ],
  "metadata": {
    "kernelspec": {
      "display_name": "Python 3",
      "language": "python",
      "name": "python3"
    },
    "language_info": {
      "codemirror_mode": {
        "name": "ipython",
        "version": 3
      },
      "file_extension": ".py",
      "mimetype": "text/x-python",
      "name": "python",
      "nbconvert_exporter": "python",
      "pygments_lexer": "ipython3",
      "version": "3.7.0"
    }
  },
  "nbformat": 4,
  "nbformat_minor": 1
}